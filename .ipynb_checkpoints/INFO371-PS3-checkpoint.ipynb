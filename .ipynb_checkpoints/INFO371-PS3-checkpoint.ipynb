{
 "cells": [
  {
   "cell_type": "markdown",
   "metadata": {
    "ein.tags": [
     "worksheet-0"
    ],
    "slideshow": {
     "slide_type": "-"
    }
   },
   "source": [
    "# Problem Set 3, due May 8 at 3:30 pm\n",
    "\n",
    "### Before You Start\n",
    "\n",
    "Make sure the following libraries load correctly.  Note that while you are loading several powerful libraries, including machine learning libraries, the goal of this problem set is to implement several algorithms from scratch. In particular, you should *not* be using any built-in libraries for nearest neighbors, distance metrics, or cross-validation -- your mission is to write those algorithms in Python! Part 1 will be relatively easy; Part 2 will take more time.\n",
    "\n",
    "*Also note:* please use base **matplotlib** - not Seaborn or other packages. This will help you become familiar with techniques for maintaining fine-grained control over your data visualizations. It will also help our graders, who spent countless hours trying to make various versions import for grading."
   ]
  },
  {
   "cell_type": "code",
   "execution_count": 185,
   "metadata": {
    "autoscroll": "json-false",
    "collapsed": false,
    "ein.tags": [
     "worksheet-0"
    ],
    "slideshow": {
     "slide_type": "-"
    }
   },
   "outputs": [],
   "source": [
    "import numpy as np\n",
    "import scipy as sp\n",
    "import pandas as pd\n",
    "import matplotlib\n",
    "import sklearn\n",
    "import matplotlib.pyplot as plt  \n",
    "from sklearn.model_selection import train_test_split\n",
    "import time\n",
    "%matplotlib inline  "
   ]
  },
  {
   "cell_type": "markdown",
   "metadata": {
    "ein.tags": [
     "worksheet-0"
    ],
    "slideshow": {
     "slide_type": "-"
    }
   },
   "source": [
    "---\n",
    "\n",
    "## Introduction to the assignment\n",
    "\n",
    "For this assignment, you will be using the [Boston Housing Prices Data Set](http://archive.ics.uci.edu/ml/datasets/Housing).  Please read about the dataset carefully before continuing.  Use the following commands to load the dataset:\n"
   ]
  },
  {
   "cell_type": "code",
   "execution_count": 186,
   "metadata": {
    "autoscroll": "json-false",
    "collapsed": false,
    "ein.tags": [
     "worksheet-0"
    ],
    "slideshow": {
     "slide_type": "-"
    }
   },
   "outputs": [
    {
     "name": "stdout",
     "output_type": "stream",
     "text": [
      "(506, 13)\n",
      "Boston House Prices dataset\n",
      "===========================\n",
      "\n",
      "Notes\n",
      "------\n",
      "Data Set Characteristics:  \n",
      "\n",
      "    :Number of Instances: 506 \n",
      "\n",
      "    :Number of Attributes: 13 numeric/categorical predictive\n",
      "    \n",
      "    :Median Value (attribute 14) is usually the target\n",
      "\n",
      "    :Attribute Information (in order):\n",
      "        - CRIM     per capita crime rate by town\n",
      "        - ZN       proportion of residential land zoned for lots over 25,000 sq.ft.\n",
      "        - INDUS    proportion of non-retail business acres per town\n",
      "        - CHAS     Charles River dummy variable (= 1 if tract bounds river; 0 otherwise)\n",
      "        - NOX      nitric oxides concentration (parts per 10 million)\n",
      "        - RM       average number of rooms per dwelling\n",
      "        - AGE      proportion of owner-occupied units built prior to 1940\n",
      "        - DIS      weighted distances to five Boston employment centres\n",
      "        - RAD      index of accessibility to radial highways\n",
      "        - TAX      full-value property-tax rate per $10,000\n",
      "        - PTRATIO  pupil-teacher ratio by town\n",
      "        - B        1000(Bk - 0.63)^2 where Bk is the proportion of blacks by town\n",
      "        - LSTAT    % lower status of the population\n",
      "        - MEDV     Median value of owner-occupied homes in $1000's\n",
      "\n",
      "    :Missing Attribute Values: None\n",
      "\n",
      "    :Creator: Harrison, D. and Rubinfeld, D.L.\n",
      "\n",
      "This is a copy of UCI ML housing dataset.\n",
      "http://archive.ics.uci.edu/ml/datasets/Housing\n",
      "\n",
      "\n",
      "This dataset was taken from the StatLib library which is maintained at Carnegie Mellon University.\n",
      "\n",
      "The Boston house-price data of Harrison, D. and Rubinfeld, D.L. 'Hedonic\n",
      "prices and the demand for clean air', J. Environ. Economics & Management,\n",
      "vol.5, 81-102, 1978.   Used in Belsley, Kuh & Welsch, 'Regression diagnostics\n",
      "...', Wiley, 1980.   N.B. Various transformations are used in the table on\n",
      "pages 244-261 of the latter.\n",
      "\n",
      "The Boston house-price data has been used in many machine learning papers that address regression\n",
      "problems.   \n",
      "     \n",
      "**References**\n",
      "\n",
      "   - Belsley, Kuh & Welsch, 'Regression diagnostics: Identifying Influential Data and Sources of Collinearity', Wiley, 1980. 244-261.\n",
      "   - Quinlan,R. (1993). Combining Instance-Based and Model-Based Learning. In Proceedings on the Tenth International Conference of Machine Learning, 236-243, University of Massachusetts, Amherst. Morgan Kaufmann.\n",
      "   - many more! (see http://archive.ics.uci.edu/ml/datasets/Housing)\n",
      "\n"
     ]
    }
   ],
   "source": [
    "from sklearn.datasets import load_boston\n",
    "bdata = load_boston()\n",
    "print (bdata.data.shape)\n",
    "print (bdata.DESCR)\n",
    "boston = pd.DataFrame(bdata.data)\n",
    "boston.columns = bdata.feature_names[:]\n",
    "boston['MEDV'] = bdata.target"
   ]
  },
  {
   "cell_type": "markdown",
   "metadata": {
    "ein.tags": [
     "worksheet-0"
    ],
    "slideshow": {
     "slide_type": "-"
    }
   },
   "source": [
    "---\n",
    "\n",
    "## Part 1: Experimental Setup\n",
    "\n",
    "The goal of the next few sections is to design an experiment to predict the median home value for an instance in the data.\n",
    "Before beginning the \"real\" work, familiarize yourself with the\n",
    "dataset.  Analyze basic summary of the variables, plot histogram of\n",
    "house price values, etc."
   ]
  },
  {
   "cell_type": "code",
   "execution_count": 187,
   "metadata": {
    "autoscroll": "json-false",
    "collapsed": false,
    "ein.tags": [
     "worksheet-0"
    ],
    "slideshow": {
     "slide_type": "-"
    }
   },
   "outputs": [
    {
     "name": "stdout",
     "output_type": "stream",
     "text": [
      "         count        mean         std        min         25%        50%  \\\n",
      "CRIM     506.0    3.593761    8.596783    0.00632    0.082045    0.25651   \n",
      "ZN       506.0   11.363636   23.322453    0.00000    0.000000    0.00000   \n",
      "INDUS    506.0   11.136779    6.860353    0.46000    5.190000    9.69000   \n",
      "CHAS     506.0    0.069170    0.253994    0.00000    0.000000    0.00000   \n",
      "NOX      506.0    0.554695    0.115878    0.38500    0.449000    0.53800   \n",
      "RM       506.0    6.284634    0.702617    3.56100    5.885500    6.20850   \n",
      "AGE      506.0   68.574901   28.148861    2.90000   45.025000   77.50000   \n",
      "DIS      506.0    3.795043    2.105710    1.12960    2.100175    3.20745   \n",
      "RAD      506.0    9.549407    8.707259    1.00000    4.000000    5.00000   \n",
      "TAX      506.0  408.237154  168.537116  187.00000  279.000000  330.00000   \n",
      "PTRATIO  506.0   18.455534    2.164946   12.60000   17.400000   19.05000   \n",
      "B        506.0  356.674032   91.294864    0.32000  375.377500  391.44000   \n",
      "LSTAT    506.0   12.653063    7.141062    1.73000    6.950000   11.36000   \n",
      "MEDV     506.0   22.532806    9.197104    5.00000   17.025000   21.20000   \n",
      "\n",
      "                75%       max  \n",
      "CRIM       3.647423   88.9762  \n",
      "ZN        12.500000  100.0000  \n",
      "INDUS     18.100000   27.7400  \n",
      "CHAS       0.000000    1.0000  \n",
      "NOX        0.624000    0.8710  \n",
      "RM         6.623500    8.7800  \n",
      "AGE       94.075000  100.0000  \n",
      "DIS        5.188425   12.1265  \n",
      "RAD       24.000000   24.0000  \n",
      "TAX      666.000000  711.0000  \n",
      "PTRATIO   20.200000   22.0000  \n",
      "B        396.225000  396.9000  \n",
      "LSTAT     16.955000   37.9700  \n",
      "MEDV      25.000000   50.0000  \n"
     ]
    },
    {
     "data": {
      "image/png": "[encoded data removed]",
      "text/plain": [
       "<matplotlib.figure.Figure at 0x116d47828>"
      ]
     },
     "metadata": {},
     "output_type": "display_data"
    }
   ],
   "source": [
    "#Basic summary\n",
    "print(boston.describe().T)\n",
    "\n",
    "#Histogram of house price values\n",
    "plt.hist(bdata.target, bins = 50, color='green', lw=0)\n",
    "plt.xlim(xmin=0)\n",
    "plt.title('Frequency of Housing Prices')\n",
    "\n",
    "plt.xlabel('Median Housing Value (in $1,000s)')\n",
    "plt.ylabel('Count of Neighborhoods')\n",
    "\n",
    "plt.subplot().spines['top'].set_visible(False)\n",
    "plt.subplot().spines['right'].set_visible(False)\n",
    "plt.tick_params(\n",
    "    axis='x',          \n",
    "    bottom='on',      \n",
    "    top='off')\n",
    "plt.tick_params(\n",
    "    axis='y',          \n",
    "    bottom='on',      \n",
    "    top='off',\n",
    "    right = \"off\")"
   ]
  },
  {
   "cell_type": "markdown",
   "metadata": {
    "ein.tags": [
     "worksheet-0"
    ],
    "slideshow": {
     "slide_type": "-"
    }
   },
   "source": [
    "### 1.1: Scatter plot of housing prices and crime\n",
    "\n",
    "Use matplotlib to create a scatter plot that shows the relationship between the median value of the home (y-axis) and the per-capita crime rate (x-axis).  Properly label your axes, and make sure that your graphic looks polished and professional. No excuses if you don't get it right this time around!\n"
   ]
  },
  {
   "cell_type": "code",
   "execution_count": 188,
   "metadata": {
    "autoscroll": "json-false",
    "collapsed": false,
    "ein.tags": [
     "worksheet-0"
    ],
    "slideshow": {
     "slide_type": "-"
    }
   },
   "outputs": [
    {
     "data": {
      "text/plain": [
       "(-2, 100.0)"
      ]
     },
     "execution_count": 188,
     "metadata": {},
     "output_type": "execute_result"
    },
    {
     "data": {
      "image/png": "[encoded data removed]",
      "text/plain": [
       "<matplotlib.figure.Figure at 0x116da5668>"
      ]
     },
     "metadata": {},
     "output_type": "display_data"
    }
   ],
   "source": [
    "plt.scatter(boston['CRIM'], boston['MEDV'], alpha = 0.4)\n",
    "plt.title(\"Crime Rate vs Median Home Value\")\n",
    "plt.xlabel(\"Per-Capita Crime Rate\")\n",
    "plt.ylabel(\"Median Value of Homes in $1000's\")\n",
    "\n",
    "plt.subplot().spines['top'].set_visible(False)\n",
    "plt.subplot().spines['right'].set_visible(False)\n",
    "plt.tick_params(\n",
    "    axis='x',          \n",
    "    bottom='on',      \n",
    "    top='off')\n",
    "plt.tick_params(\n",
    "    axis='y',          \n",
    "    bottom='on',      \n",
    "    top='off',\n",
    "    right = \"off\")\n",
    "\n",
    "plt.xlim(xmin = -2)"
   ]
  },
  {
   "cell_type": "markdown",
   "metadata": {
    "ein.tags": [
     "worksheet-0"
    ],
    "slideshow": {
     "slide_type": "-"
    }
   },
   "source": [
    "### 1.2 Begin by writing a function to compute the Root Mean Squared Error for a list of numbers\n",
    "\n",
    "You can find the sqrt function in the Numpy package. \n",
    "Details of RMSE can be found in Hastie, Tibishrani, Friedman _The\n",
    "Elements of Statistical Learning_, Ch 2.5. (Available on the web)\n"
   ]
  },
  {
   "cell_type": "code",
   "execution_count": 189,
   "metadata": {
    "autoscroll": "json-false",
    "collapsed": false,
    "ein.tags": [
     "worksheet-0"
    ],
    "slideshow": {
     "slide_type": "-"
    }
   },
   "outputs": [],
   "source": [
    "def compute_rmse(prediction, actual):\n",
    "    length = len(prediction)\n",
    "    sum = 0\n",
    "    for i in range(0, length):\n",
    "        sum += (actual[i] - prediction[i]) ** 2\n",
    "    rmse = np.sqrt(sum / length)\n",
    "    return rmse"
   ]
  },
  {
   "cell_type": "markdown",
   "metadata": {
    "ein.tags": [
     "worksheet-0"
    ],
    "slideshow": {
     "slide_type": "-"
    }
   },
   "source": [
    "### 1.3 Divide your data into training and testing datasets\n",
    "\n",
    "Randomly select 66% of the data and put this in a training dataset\n",
    "(call this \"bdata_train\"), and place the remaining 34% in a testing\n",
    "dataset (call this \"bdata_test\").  Please us 'np.random' for random numbers.\n"
   ]
  },
  {
   "cell_type": "code",
   "execution_count": 190,
   "metadata": {
    "autoscroll": "json-false",
    "collapsed": false,
    "ein.tags": [
     "worksheet-0"
    ],
    "slideshow": {
     "slide_type": "-"
    }
   },
   "outputs": [],
   "source": [
    "# Please use this seed, it will help ensure that your \"random\" split is the same \"random\" split used by the rest of the class\n",
    "np.random.seed(seed=13579)\n",
    "\n",
    "random_select = np.random.rand(len(boston)) < 0.66\n",
    "bdata_train = boston[random_select]\n",
    "bdata_test = boston[~random_select]\n",
    "bdata_test = bdata_test.reset_index(drop=True)\n",
    "bdata_train = bdata_train.reset_index(drop=True)"
   ]
  },
  {
   "cell_type": "markdown",
   "metadata": {
    "ein.tags": [
     "worksheet-0"
    ],
    "slideshow": {
     "slide_type": "-"
    }
   },
   "source": [
    "### 1.4 Use a very bad baseline for prediction, and compute RMSE\n",
    "\n",
    "Create a model that predicts, for every observation x_i, that the median home value is the average (mean) of the median values for all instances in the training set.  Compute the RMSE on the training set.  Now compute the RMSE on the test data set (but use the model you trained on the training set!).  How does RMSE compare for training vs. testing datasets? Is this what you expected, and why?"
   ]
  },
  {
   "cell_type": "code",
   "execution_count": 191,
   "metadata": {
    "autoscroll": "json-false",
    "collapsed": false,
    "ein.tags": [
     "worksheet-0"
    ],
    "slideshow": {
     "slide_type": "-"
    }
   },
   "outputs": [
    {
     "name": "stdout",
     "output_type": "stream",
     "text": [
      "8.85202727619\n",
      "9.76793999497\n"
     ]
    }
   ],
   "source": [
    "#RMSE - training set\n",
    "mean_values = [np.mean(bdata_train['MEDV'])] * len(bdata_train)                 \n",
    "print (compute_rmse(mean_values, bdata_train['MEDV'].values))\n",
    "    \n",
    "#RMSE - test set\n",
    "mean_values = [np.mean(bdata_train['MEDV'])] * len(bdata_test)                 \n",
    "print (compute_rmse(mean_values, bdata_test['MEDV'].values))"
   ]
  },
  {
   "cell_type": "markdown",
   "metadata": {
    "ein.tags": [
     "worksheet-0"
    ],
    "slideshow": {
     "slide_type": "-"
    }
   },
   "source": [
    "The RMSE for the test set was higher by ~0.91. This is what I expected because the model was made with the training data and so I would expect that the training data would produce less of an error compared to the test data."
   ]
  },
  {
   "cell_type": "markdown",
   "metadata": {
    "ein.tags": [
     "worksheet-0"
    ],
    "slideshow": {
     "slide_type": "-"
    }
   },
   "source": [
    "---\n",
    "\n",
    "## Part 2: Nearest Neighbors\n"
   ]
  },
  {
   "cell_type": "markdown",
   "metadata": {
    "ein.tags": [
     "worksheet-0"
    ],
    "slideshow": {
     "slide_type": "-"
    }
   },
   "source": [
    "### 2.1 Nearest Neighbors: Distance function\n",
    "Let's try and build a machine learning algorithm to beat the \"Average\n",
    "Value\" baseline that you computed above.  Soon you will implement the\n",
    "Nearest Neighbor algorithm, but first you need to create a distance\n",
    "metric to measure the distance (and similarity) between two instances.\n",
    "Write a generic function to compute the Lp-Norm distance. Verify that\n",
    "your function works by computing the L-2 (Euclidean) distance and L-1 (Manhattan) distance between the points (3,4) and (6,8), and between (6,8) and (3,4).  Ensure that your distance is correct and positive in both cases!"
   ]
  },
  {
   "cell_type": "code",
   "execution_count": 192,
   "metadata": {
    "autoscroll": "json-false",
    "collapsed": false,
    "ein.tags": [
     "worksheet-0"
    ],
    "slideshow": {
     "slide_type": "-"
    }
   },
   "outputs": [
    {
     "data": {
      "text/plain": [
       "5.0"
      ]
     },
     "execution_count": 192,
     "metadata": {},
     "output_type": "execute_result"
    }
   ],
   "source": [
    "## build on this...\n",
    "def distance(x1, x2, L):\n",
    "    distance = abs(np.sum((np.array(x1) - np.array(x2)) ** L)) ** (1 / L)\n",
    "    return distance\n",
    "\n",
    "distance((3,4),(6,8),1)\n",
    "#Ans = 7\n",
    "\n",
    "distance((3,4),(6,8),2)\n",
    "#Ans = 5"
   ]
  },
  {
   "cell_type": "markdown",
   "metadata": {
    "ein.tags": [
     "worksheet-0"
    ],
    "slideshow": {
     "slide_type": "-"
    }
   },
   "source": [
    "### 2.2 Basic Nearest Neighbor algorithm\n",
    "\n",
    "Now things get fun.  Your task is to implement a basic nearest neighbor algorithm from scratch.  Your simple model will use two input features (CRIM and RM) and a single output (MEDV).  In other words, you are modelling the relationship between median home value and crime rates and house size.\n",
    "\n",
    "Use your training data (bdata_train) to \"fit\" your model, although as\n",
    "you know, with Nearest Neighbors there is no real training, you just\n",
    "need to keep your training data in memory.  Write a function that\n",
    "predicts, for each instance in the testing data (bdata_test), the\n",
    "median home value using the nearest neighbor algorithm we discussed in\n",
    "class.  Since this is a small dataset, you can simply compare your\n",
    "test instance to every instance in the training set, and return the\n",
    "MEDV value of the closest training instance.  You can just loop over\n",
    "the instances to find the nearest neighbor.  Have your function take L as an input, where L is passed to the distance function.\n",
    "\n",
    "Compute the RMSE for the Nearest Neighbor predictions on the test set, using the Euclidean distance.  Report an estimate of the total time taken by your code to predict the nearest neighbors for all the values in the test data set.\n",
    "\n",
    "Plot the true vs predicted price for your test data"
   ]
  },
  {
   "cell_type": "code",
   "execution_count": 193,
   "metadata": {
    "autoscroll": "json-false",
    "collapsed": false,
    "ein.tags": [
     "worksheet-0"
    ],
    "slideshow": {
     "slide_type": "-"
    }
   },
   "outputs": [
    {
     "name": "stdout",
     "output_type": "stream",
     "text": [
      "Total time taken by code: 3.24 seconds\n",
      "RMSE: 5.74\n"
     ]
    },
    {
     "data": {
      "text/plain": [
       "5.7368241939648748"
      ]
     },
     "execution_count": 193,
     "metadata": {},
     "output_type": "execute_result"
    },
    {
     "data": {
      "image/png": "[encoded data removed]",
      "text/plain": [
       "<matplotlib.figure.Figure at 0x1181657f0>"
      ]
     },
     "metadata": {},
     "output_type": "display_data"
    }
   ],
   "source": [
    "## build on this...\n",
    "def nneighbor(train, test, features, L, print_scatter, K = 1):\n",
    "    start = time.time()\n",
    "    predictions = []\n",
    "    \n",
    "    for i in range(len(test)):\n",
    "        minimum_distance = 99999\n",
    "        current_prediction = None\n",
    "        for j in range(len(train)):\n",
    "            testing = []\n",
    "            training = []\n",
    "            \n",
    "            #Reduces run time by ~90 seconds by putting into list\n",
    "            for k in range(len(features)):\n",
    "                testing.append(test[features[k]].values[i])\n",
    "                training.append(train[features[k]].values[j])\n",
    "            \n",
    "            current_distance = distance(training, testing, L)\n",
    "            \n",
    "            if current_distance < minimum_distance:\n",
    "                minimum_distance = current_distance\n",
    "                current_prediction = train['MEDV'].loc[j]\n",
    "        \n",
    "        predictions.append(current_prediction)\n",
    "                \n",
    "    print (\"Total time taken by code: \" + str(round(time.time() - start, 2)) + \" seconds\")\n",
    "    rmse = compute_rmse(predictions, test[\"MEDV\"])\n",
    "    print (\"RMSE: \" + str(round(rmse, 2)))\n",
    "    if (print_scatter):\n",
    "        plt.scatter(predictions, test[\"MEDV\"])\n",
    "    \n",
    "    return rmse\n",
    "\n",
    "nneighbor(bdata_train, bdata_test, [\"RM\", \"CRIM\"], 2, True)"
   ]
  },
  {
   "cell_type": "markdown",
   "metadata": {
    "ein.tags": [
     "worksheet-0"
    ],
    "slideshow": {
     "slide_type": "-"
    }
   },
   "source": [
    "### 2.3 Results and Normalization\n",
    "\n",
    "If you were being astute, you would have noticed that we never normalized our features -- a big no-no with Nearest Neighbor algorithms.  Normalization is similar to Mahalanobis disctance (if the features are independent).  Read more in Daume (2017), _A Course in Machine Learning_ Chapter 4.3.  Write a simple generic normalization function that takes as input an array of values for a given feature, and returns the normalized array.  Do it well, you will need it in the future as well ;-)\n",
    "\n",
    "Re-run the Nearest Neighbor algorithm on the normalized dataset (still just using CRIM and RM as input), and compare the RMSE from this method with your previous RMSE evaluations.\n",
    "\n",
    "*NOTE*: To normalize properly, best practice is to compute the mean and standard deviation on the training set, and use these values to normalize the testing dataset. However, for this problem set, it is okay if you separately normalize each dataset using the respective mean and standard deviation."
   ]
  },
  {
   "cell_type": "code",
   "execution_count": 194,
   "metadata": {
    "autoscroll": "json-false",
    "collapsed": false,
    "ein.tags": [
     "worksheet-0"
    ],
    "slideshow": {
     "slide_type": "-"
    }
   },
   "outputs": [],
   "source": [
    "## ...\n",
    "def normalize(data):\n",
    "    data = np.array(data)\n",
    "    sd = data.std()\n",
    "    mean = data.mean()\n",
    "    normalized = []\n",
    "    \n",
    "    for i in range(0, len(data)):\n",
    "        normalized.append((data[i] - mean) / sd)\n",
    "    \n",
    "    return normalized\n",
    "\n",
    "def normalize_dataframe(df, features):\n",
    "    for each in features:\n",
    "        df[each] = normalize(df[each].values)\n",
    "        \n",
    "    return df"
   ]
  },
  {
   "cell_type": "code",
   "execution_count": 195,
   "metadata": {
    "collapsed": false
   },
   "outputs": [],
   "source": [
    "features = ['CRIM','ZN','INDUS','CHAS','NOX','RM','AGE','DIS','RAD','TAX','PTRATIO','B','LSTAT']\n",
    "\n",
    "bdata_train = normalize_dataframe(bdata_train, features)\n",
    "bdata_test = normalize_dataframe(bdata_test, features)"
   ]
  },
  {
   "cell_type": "code",
   "execution_count": 196,
   "metadata": {
    "collapsed": false
   },
   "outputs": [
    {
     "name": "stdout",
     "output_type": "stream",
     "text": [
      "Total time taken by code: 3.33 seconds\n",
      "RMSE: 6.64\n"
     ]
    },
    {
     "data": {
      "text/plain": [
       "6.6433645988849115"
      ]
     },
     "execution_count": 196,
     "metadata": {},
     "output_type": "execute_result"
    },
    {
     "data": {
      "image/png": "[encoded data removed]",
      "text/plain": [
       "<matplotlib.figure.Figure at 0x118165be0>"
      ]
     },
     "metadata": {},
     "output_type": "display_data"
    }
   ],
   "source": [
    "nneighbor(bdata_train, bdata_test, [\"RM\", \"CRIM\"], 2, True)"
   ]
  },
  {
   "cell_type": "markdown",
   "metadata": {
    "ein.tags": [
     "worksheet-0"
    ],
    "slideshow": {
     "slide_type": "-"
    }
   },
   "source": [
    "The normalized dataframes produced a higher RMSE (6.64 compared to 5.74 to the non-normalized). This means that normalizing the dataframes reduced the predictive power of the model "
   ]
  },
  {
   "cell_type": "markdown",
   "metadata": {
    "ein.tags": [
     "worksheet-0"
    ],
    "slideshow": {
     "slide_type": "-"
    }
   },
   "source": [
    "### 2.4 Optimization\n",
    "\n",
    "A lot of the decisions we've made so far have been arbitrary.  Try to increase the performance of your nearest neighbor algorithm by adding features that you think might be relevant, and by using different values of L in the distance function.  Try a model that uses a different set of 2 features, then try at least one model that uses more than 4 features, then try using a different value of L.  If you're having fun, try a few different combinations of features and L!  \n",
    "\n",
    "What combination of features and distance function provide the lowest RMSE?  Compre RMSEs with the corresponding true-predicted plots.\n",
    "\n",
    "Do your decisions affect the running time of the algorithm?"
   ]
  },
  {
   "cell_type": "code",
   "execution_count": 197,
   "metadata": {
    "autoscroll": "json-false",
    "collapsed": false,
    "ein.tags": [
     "worksheet-0"
    ],
    "slideshow": {
     "slide_type": "-"
    }
   },
   "outputs": [
    {
     "data": {
      "text/plain": [
       "'\\n00 - CRIM     per capita crime rate by town\\n01 - ZN       proportion of residential land zoned for lots over 25,000 sq.ft.\\n02 - INDUS    proportion of non-retail business acres per town\\n03 - CHAS     Charles River dummy variable (= 1 if tract bounds river; 0 otherwise)\\n04 - NOX      nitric oxides concentration (parts per 10 million)\\n05 - RM       average number of rooms per dwelling\\n06 - AGE      proportion of owner-occupied units built prior to 1940\\n07 - DIS      weighted distances to five Boston employment centres\\n08 - RAD      index of accessibility to radial highways\\n09 - TAX      full-value property-tax rate per $10,000\\n10 - PTRATIO  pupil-teacher ratio by town\\n11 - B        1000(Bk - 0.63)^2 where Bk is the proportion of blacks by town\\n12 - LSTAT    % lower status of the population\\n'"
      ]
     },
     "execution_count": 197,
     "metadata": {},
     "output_type": "execute_result"
    }
   ],
   "source": [
    "'''\n",
    "00 - CRIM     per capita crime rate by town\n",
    "01 - ZN       proportion of residential land zoned for lots over 25,000 sq.ft.\n",
    "02 - INDUS    proportion of non-retail business acres per town\n",
    "03 - CHAS     Charles River dummy variable (= 1 if tract bounds river; 0 otherwise)\n",
    "04 - NOX      nitric oxides concentration (parts per 10 million)\n",
    "05 - RM       average number of rooms per dwelling\n",
    "06 - AGE      proportion of owner-occupied units built prior to 1940\n",
    "07 - DIS      weighted distances to five Boston employment centres\n",
    "08 - RAD      index of accessibility to radial highways\n",
    "09 - TAX      full-value property-tax rate per $10,000\n",
    "10 - PTRATIO  pupil-teacher ratio by town\n",
    "11 - B        1000(Bk - 0.63)^2 where Bk is the proportion of blacks by town\n",
    "12 - LSTAT    % lower status of the population\n",
    "'''\n",
    "## do it here..."
   ]
  },
  {
   "cell_type": "code",
   "execution_count": 198,
   "metadata": {
    "collapsed": false
   },
   "outputs": [
    {
     "name": "stdout",
     "output_type": "stream",
     "text": [
      "Total time taken by code: 3.69 seconds\n",
      "RMSE: 11.08\n"
     ]
    },
    {
     "data": {
      "text/plain": [
       "11.084076593325296"
      ]
     },
     "execution_count": 198,
     "metadata": {},
     "output_type": "execute_result"
    }
   ],
   "source": [
    "# 2 different features\n",
    "nneighbor(bdata_train, bdata_test, [\"RAD\", \"AGE\"], 2, False)"
   ]
  },
  {
   "cell_type": "code",
   "execution_count": 199,
   "metadata": {
    "collapsed": false
   },
   "outputs": [
    {
     "name": "stdout",
     "output_type": "stream",
     "text": [
      "Total time taken by code: 3.42 seconds\n",
      "RMSE: 9.54\n"
     ]
    },
    {
     "data": {
      "text/plain": [
       "9.543482740971724"
      ]
     },
     "execution_count": 199,
     "metadata": {},
     "output_type": "execute_result"
    }
   ],
   "source": [
    "# 2 different features\n",
    "nneighbor(bdata_train, bdata_test, [\"RAD\", \"NOX\"], 2, False)"
   ]
  },
  {
   "cell_type": "code",
   "execution_count": 200,
   "metadata": {
    "collapsed": false
   },
   "outputs": [
    {
     "name": "stdout",
     "output_type": "stream",
     "text": [
      "Total time taken by code: 4.74 seconds\n",
      "RMSE: 9.77\n"
     ]
    },
    {
     "data": {
      "text/plain": [
       "9.7733342737893256"
      ]
     },
     "execution_count": 200,
     "metadata": {},
     "output_type": "execute_result"
    }
   ],
   "source": [
    "# 4 different features\n",
    "nneighbor(bdata_train, bdata_test, [\"RAD\", \"AGE\", \"ZN\", \"DIS\"], 2, False)"
   ]
  },
  {
   "cell_type": "code",
   "execution_count": 201,
   "metadata": {
    "collapsed": false
   },
   "outputs": [
    {
     "name": "stdout",
     "output_type": "stream",
     "text": [
      "Total time taken by code: 4.72 seconds\n",
      "RMSE: 8.54\n"
     ]
    },
    {
     "data": {
      "text/plain": [
       "8.5354849081819033"
      ]
     },
     "execution_count": 201,
     "metadata": {},
     "output_type": "execute_result"
    }
   ],
   "source": [
    "# 4 different features\n",
    "nneighbor(bdata_train, bdata_test, [\"B\", \"TAX\", \"NOX\", \"DIS\"], 2, False)"
   ]
  },
  {
   "cell_type": "code",
   "execution_count": 202,
   "metadata": {
    "collapsed": false
   },
   "outputs": [
    {
     "name": "stdout",
     "output_type": "stream",
     "text": [
      "Total time taken by code: 4.9 seconds\n",
      "RMSE: 11.27\n"
     ]
    },
    {
     "data": {
      "text/plain": [
       "11.265401325106302"
      ]
     },
     "execution_count": 202,
     "metadata": {},
     "output_type": "execute_result"
    }
   ],
   "source": [
    "# different L\n",
    "nneighbor(bdata_train, bdata_test, [\"RAD\", \"AGE\", \"ZN\", \"DIS\"], 1, False)"
   ]
  },
  {
   "cell_type": "code",
   "execution_count": 203,
   "metadata": {
    "collapsed": false
   },
   "outputs": [
    {
     "name": "stdout",
     "output_type": "stream",
     "text": [
      "Total time taken by code: 4.85 seconds\n",
      "RMSE: 9.48\n"
     ]
    },
    {
     "data": {
      "text/plain": [
       "9.4766867428989485"
      ]
     },
     "execution_count": 203,
     "metadata": {},
     "output_type": "execute_result"
    }
   ],
   "source": [
    "# different L\n",
    "nneighbor(bdata_train, bdata_test, [\"RAD\", \"AGE\", \"ZN\", \"DIS\"], 3, False)"
   ]
  },
  {
   "cell_type": "code",
   "execution_count": 204,
   "metadata": {
    "collapsed": false
   },
   "outputs": [
    {
     "name": "stdout",
     "output_type": "stream",
     "text": [
      "Total time taken by code: 4.86 seconds\n",
      "RMSE: 9.49\n"
     ]
    },
    {
     "data": {
      "text/plain": [
       "9.4858285040568262"
      ]
     },
     "execution_count": 204,
     "metadata": {},
     "output_type": "execute_result"
    }
   ],
   "source": [
    "# different L\n",
    "nneighbor(bdata_train, bdata_test, [\"RAD\", \"AGE\", \"ZN\", \"DIS\"], 4, False)"
   ]
  },
  {
   "cell_type": "markdown",
   "metadata": {
    "ein.tags": [
     "worksheet-0"
    ],
    "slideshow": {
     "slide_type": "-"
    }
   },
   "source": [
    "From computer RMSE for different features and distances, I found that the one that produced the smallest features was using [\"B\", \"TAX\", \"NOX\", \"DIS\"] with a distance of 2. This produced an RMSE of ~8.54 and the other RMSEs were about in the ~9 range. I found that changing L, the distance, didn't alter a lot in the RMSE or the run time. I thought that increasing the number of features would reduce the RMSE by a significant amount, but I found that it was about the same."
   ]
  },
  {
   "cell_type": "markdown",
   "metadata": {
    "ein.tags": [
     "worksheet-0"
    ],
    "slideshow": {
     "slide_type": "-"
    }
   },
   "source": [
    "### 2.5 Cross-Validation\n",
    "\n",
    "The more you tinkered with your features and distance function, the higher the risk that you overfit your training data.  To prevent this sort of overfitting, you need to use cross-validation (see Daume (2017) _A Course in Machine Learning_, Ch 4.6).  Here you must implement a simple k-fold cross-validation algorithm yourself.  Essentially you have to partition your dataset into 10 equally-sized samples, and for each of 10 iterations (the \"folds\"), use 9 samples as \"training data\" (even though there is no training in k-NN!), and the remaining 1 sample for testing.  The function you write here will be used several more times in this problem set, so do your best to write efficient code! (Note that the sklearn package has a built-in K-fold iterator -- do *not* use that here.)\n",
    "\n",
    "Use Euclidean distance with CRIM and RM (0 and 5) as features.  Compute the RMSE of that particular test set, then move on to the next iteration.  Report the average RMSE across the 10 iterations, and the total running time for all 10 iterations.  Compare the k-fold RMSE with the training-testing split RMSE above for the same hyperparameter values."
   ]
  },
  {
   "cell_type": "code",
   "execution_count": 215,
   "metadata": {
    "collapsed": false
   },
   "outputs": [],
   "source": [
    "boston_copy = boston.sample(frac = 1)\n",
    "boston_copy = boston_copy.reset_index(drop=True)\n",
    "boston_copy = normalize_dataframe(boston_copy, features)"
   ]
  },
  {
   "cell_type": "code",
   "execution_count": 216,
   "metadata": {
    "autoscroll": "json-false",
    "collapsed": false,
    "ein.tags": [
     "worksheet-0"
    ],
    "slideshow": {
     "slide_type": "-"
    }
   },
   "outputs": [],
   "source": [
    "num = int(len(boston_copy) / 10)\n",
    "parts = []\n",
    "for i in range(10):\n",
    "    parts.append(boston_copy[0:num])\n",
    "    boston_copy = boston_copy.drop(boston_copy.index[0:num])"
   ]
  },
  {
   "cell_type": "code",
   "execution_count": 217,
   "metadata": {
    "collapsed": false
   },
   "outputs": [
    {
     "name": "stdout",
     "output_type": "stream",
     "text": [
      "Total time taken by code: 0.15 seconds\n",
      "RMSE: 5.31\n",
      "\n",
      "\n",
      "Total time taken by code: 0.14 seconds\n",
      "RMSE: 5.13\n",
      "\n",
      "\n",
      "Total time taken by code: 0.15 seconds\n",
      "RMSE: 9.41\n",
      "\n",
      "\n",
      "Total time taken by code: 0.16 seconds\n",
      "RMSE: 5.03\n",
      "\n",
      "\n",
      "Total time taken by code: 0.17 seconds\n",
      "RMSE: 4.85\n",
      "\n",
      "\n",
      "Total time taken by code: 0.24 seconds\n",
      "RMSE: 5.49\n",
      "\n",
      "\n",
      "Total time taken by code: 0.2 seconds\n",
      "RMSE: 6.22\n",
      "\n",
      "\n",
      "Total time taken by code: 0.26 seconds\n",
      "RMSE: 7.49\n",
      "\n",
      "\n",
      "Total time taken by code: 0.23 seconds\n",
      "RMSE: 5.26\n",
      "\n",
      "\n",
      "Average RMSE: 6.02205215014\n",
      "Total Run Time 1.72\n",
      "--------------\n",
      "\n",
      "\n"
     ]
    },
    {
     "data": {
      "text/plain": [
       "6.0220521501433888"
      ]
     },
     "execution_count": 217,
     "metadata": {},
     "output_type": "execute_result"
    }
   ],
   "source": [
    "def cv (parts, features, method, K):\n",
    "    start = time.time()\n",
    "    test = parts[0]\n",
    "    test = test.reset_index(drop=True)\n",
    "    train = parts[1:10]    \n",
    "    sum = 0\n",
    "    \n",
    "    #Reset the indexes for the training sets\n",
    "    for i in range(9):\n",
    "        train[i] = train[i].reset_index(drop=True)\n",
    "    \n",
    "    #Calculate the sum of the RMSEs for all the training sets\n",
    "    for i in range(9):\n",
    "        sum += method(train[i], test, features, 2, False, K)\n",
    "        print(\"\\n\")\n",
    "    \n",
    "    average = sum / 9\n",
    "    \n",
    "    print(\"Average RMSE: \" + str(average))\n",
    "    print(\"Total Run Time \" + str(round(time.time() - start, 2)))\n",
    "    print(\"--------------\")\n",
    "    print(\"\\n\")\n",
    "    return average\n",
    "\n",
    "cv(parts, ['CRIM', 'RM'], nneighbor, 1)"
   ]
  },
  {
   "cell_type": "markdown",
   "metadata": {
    "ein.tags": [
     "worksheet-0"
    ],
    "slideshow": {
     "slide_type": "-"
    }
   },
   "source": [
    "### 2.6 K-Nearest Neighbors Algorithm\n",
    "\n",
    "Implement the K-Nearest Neighbors algorithm.  Using 10-fold cross validation, report the RMSE for K=3 and the running time of the algorithm."
   ]
  },
  {
   "cell_type": "code",
   "execution_count": 218,
   "metadata": {
    "autoscroll": "json-false",
    "collapsed": false,
    "ein.tags": [
     "worksheet-0"
    ],
    "slideshow": {
     "slide_type": "-"
    }
   },
   "outputs": [
    {
     "name": "stdout",
     "output_type": "stream",
     "text": [
      "Time taken by code for K = 3: 4.03 seconds\n"
     ]
    },
    {
     "data": {
      "text/plain": [
       "5.4272013277998434"
      ]
     },
     "execution_count": 218,
     "metadata": {},
     "output_type": "execute_result"
    }
   ],
   "source": [
    "## build on this...\n",
    "def knn(train, test, features, L, print_scatter, K):\n",
    "    start_time = time.time()\n",
    "    \n",
    "    predictions = []\n",
    "    \n",
    "    for i in range(0, len(test['MEDV'].values)):\n",
    "        #Create arrays to store the closest distances and its values\n",
    "        distances = [999999] * K\n",
    "        values = [-1] * K\n",
    "        \n",
    "        for j in range(0, len(train['MEDV'].values)):\n",
    "            test_features = []\n",
    "            train_features = []\n",
    "            \n",
    "            for k in range(0, len(features)):\n",
    "                test_features.append(test[features[k]].values[i])\n",
    "                train_features.append(train[features[k]].values[j])\n",
    "                \n",
    "            current_distance = distance(test_features, train_features, L)\n",
    "            \n",
    "            for l in range(0, K):\n",
    "                if current_distance < distances[l]:\n",
    "                    if l > 0:\n",
    "                        distances[l - 1] = distances[l]\n",
    "                        values[l - 1] = values[l]\n",
    "                    distances[l] = current_distance\n",
    "                    values[l] = train['MEDV'].loc[j]\n",
    "        \n",
    "        mean = sum(values) / len(values)\n",
    "        predictions.append(mean)\n",
    "        if (print_scatter):\n",
    "            plt.scatter(predictions, test[\"MEDV\"])\n",
    "        \n",
    "    rmse = compute_rmse(predictions, test['MEDV'].values)\n",
    "\n",
    "    print (\"Time taken by code for K = \" +  str(K) + \": \" + str(round(time.time() - start_time,2)) + \" seconds\")\n",
    "    return rmse\n",
    "\n",
    "knn(bdata_train, bdata_test, [\"RM\", \"CRIM\"], 2, False, 3)"
   ]
  },
  {
   "cell_type": "markdown",
   "metadata": {
    "ein.tags": [
     "worksheet-0"
    ],
    "slideshow": {
     "slide_type": "-"
    }
   },
   "source": [
    "### 2.7 Using cross validation to find K\n",
    "\n",
    "What is the best choice of K?  Compute the RMSE for values of K between 1 and 25 using 10-fold cross-validation.  Use the following features in your model, and don't forget to normalize: CRIM, ZN, RM, AGE, DIS, TAX.  Create a graph that shows how RMSE changes as K increases from 1 to 25.  Label your axes, and summarize what you see.  What do you think is a reasonable choice of K for this model?"
   ]
  },
  {
   "cell_type": "code",
   "execution_count": 219,
   "metadata": {
    "collapsed": false
   },
   "outputs": [
    {
     "name": "stdout",
     "output_type": "stream",
     "text": [
      "Time taken by code for K = 1: 0.29 seconds\n",
      "\n",
      "\n",
      "Time taken by code for K = 1: 0.49 seconds\n",
      "\n",
      "\n",
      "Time taken by code for K = 1: 0.33 seconds\n",
      "\n",
      "\n",
      "Time taken by code for K = 1: 0.41 seconds\n",
      "\n",
      "\n",
      "Time taken by code for K = 1: 0.3 seconds\n",
      "\n",
      "\n",
      "Time taken by code for K = 1: 0.28 seconds\n",
      "\n",
      "\n",
      "Time taken by code for K = 1: 0.37 seconds\n",
      "\n",
      "\n",
      "Time taken by code for K = 1: 0.28 seconds\n",
      "\n",
      "\n",
      "Time taken by code for K = 1: 0.32 seconds\n",
      "\n",
      "\n",
      "Average RMSE: 5.48831871506\n",
      "Total Run Time 3.09\n",
      "--------------\n",
      "\n",
      "\n",
      "Time taken by code for K = 2: 0.33 seconds\n",
      "\n",
      "\n",
      "Time taken by code for K = 2: 0.41 seconds\n",
      "\n",
      "\n",
      "Time taken by code for K = 2: 0.33 seconds\n",
      "\n",
      "\n",
      "Time taken by code for K = 2: 0.44 seconds\n",
      "\n",
      "\n",
      "Time taken by code for K = 2: 0.48 seconds\n",
      "\n",
      "\n",
      "Time taken by code for K = 2: 0.48 seconds\n",
      "\n",
      "\n",
      "Time taken by code for K = 2: 0.29 seconds\n",
      "\n",
      "\n",
      "Time taken by code for K = 2: 0.33 seconds\n",
      "\n",
      "\n",
      "Time taken by code for K = 2: 0.31 seconds\n",
      "\n",
      "\n",
      "Average RMSE: 5.50551928689\n",
      "Total Run Time 3.4\n",
      "--------------\n",
      "\n",
      "\n",
      "Time taken by code for K = 3: 0.45 seconds\n",
      "\n",
      "\n",
      "Time taken by code for K = 3: 0.34 seconds\n",
      "\n",
      "\n",
      "Time taken by code for K = 3: 0.46 seconds\n",
      "\n",
      "\n",
      "Time taken by code for K = 3: 0.48 seconds\n",
      "\n",
      "\n",
      "Time taken by code for K = 3: 0.34 seconds\n",
      "\n",
      "\n",
      "Time taken by code for K = 3: 0.47 seconds\n",
      "\n",
      "\n",
      "Time taken by code for K = 3: 0.43 seconds\n",
      "\n",
      "\n",
      "Time taken by code for K = 3: 0.35 seconds\n",
      "\n",
      "\n",
      "Time taken by code for K = 3: 0.4 seconds\n",
      "\n",
      "\n",
      "Average RMSE: 5.28892969876\n",
      "Total Run Time 3.71\n",
      "--------------\n",
      "\n",
      "\n",
      "Time taken by code for K = 4: 0.36 seconds\n",
      "\n",
      "\n",
      "Time taken by code for K = 4: 0.36 seconds\n",
      "\n",
      "\n",
      "Time taken by code for K = 4: 0.37 seconds\n",
      "\n",
      "\n",
      "Time taken by code for K = 4: 0.37 seconds\n",
      "\n",
      "\n",
      "Time taken by code for K = 4: 0.38 seconds\n",
      "\n",
      "\n",
      "Time taken by code for K = 4: 0.38 seconds\n",
      "\n",
      "\n",
      "Time taken by code for K = 4: 0.38 seconds\n",
      "\n",
      "\n",
      "Time taken by code for K = 4: 0.39 seconds\n",
      "\n",
      "\n",
      "Time taken by code for K = 4: 0.43 seconds\n",
      "\n",
      "\n",
      "Average RMSE: 5.37992497582\n",
      "Total Run Time 3.42\n",
      "--------------\n",
      "\n",
      "\n",
      "Time taken by code for K = 5: 0.4 seconds\n",
      "\n",
      "\n",
      "Time taken by code for K = 5: 0.4 seconds\n",
      "\n",
      "\n",
      "Time taken by code for K = 5: 0.41 seconds\n",
      "\n",
      "\n",
      "Time taken by code for K = 5: 0.46 seconds\n",
      "\n",
      "\n",
      "Time taken by code for K = 5: 0.42 seconds\n",
      "\n",
      "\n",
      "Time taken by code for K = 5: 0.42 seconds\n",
      "\n",
      "\n",
      "Time taken by code for K = 5: 0.4 seconds\n",
      "\n",
      "\n",
      "Time taken by code for K = 5: 0.43 seconds\n",
      "\n",
      "\n",
      "Time taken by code for K = 5: 0.55 seconds\n",
      "\n",
      "\n",
      "Average RMSE: 5.5527996454\n",
      "Total Run Time 3.88\n",
      "--------------\n",
      "\n",
      "\n",
      "Time taken by code for K = 6: 0.49 seconds\n",
      "\n",
      "\n",
      "Time taken by code for K = 6: 0.46 seconds\n",
      "\n",
      "\n",
      "Time taken by code for K = 6: 0.44 seconds\n",
      "\n",
      "\n",
      "Time taken by code for K = 6: 0.45 seconds\n",
      "\n",
      "\n",
      "Time taken by code for K = 6: 0.55 seconds\n",
      "\n",
      "\n",
      "Time taken by code for K = 6: 0.45 seconds\n",
      "\n",
      "\n",
      "Time taken by code for K = 6: 0.46 seconds\n",
      "\n",
      "\n",
      "Time taken by code for K = 6: 0.48 seconds\n",
      "\n",
      "\n",
      "Time taken by code for K = 6: 0.46 seconds\n",
      "\n",
      "\n",
      "Average RMSE: 5.60502550142\n",
      "Total Run Time 4.24\n",
      "--------------\n",
      "\n",
      "\n",
      "Time taken by code for K = 7: 0.5 seconds\n",
      "\n",
      "\n",
      "Time taken by code for K = 7: 0.51 seconds\n",
      "\n",
      "\n",
      "Time taken by code for K = 7: 0.49 seconds\n",
      "\n",
      "\n",
      "Time taken by code for K = 7: 0.49 seconds\n",
      "\n",
      "\n",
      "Time taken by code for K = 7: 0.53 seconds\n",
      "\n",
      "\n",
      "Time taken by code for K = 7: 0.53 seconds\n",
      "\n",
      "\n",
      "Time taken by code for K = 7: 0.49 seconds\n",
      "\n",
      "\n",
      "Time taken by code for K = 7: 0.53 seconds\n",
      "\n",
      "\n",
      "Time taken by code for K = 7: 0.51 seconds\n",
      "\n",
      "\n",
      "Average RMSE: 5.77650068696\n",
      "Total Run Time 4.58\n",
      "--------------\n",
      "\n",
      "\n",
      "Time taken by code for K = 8: 0.57 seconds\n",
      "\n",
      "\n",
      "Time taken by code for K = 8: 0.56 seconds\n",
      "\n",
      "\n",
      "Time taken by code for K = 8: 0.54 seconds\n",
      "\n",
      "\n",
      "Time taken by code for K = 8: 0.54 seconds\n",
      "\n",
      "\n",
      "Time taken by code for K = 8: 0.59 seconds\n",
      "\n",
      "\n",
      "Time taken by code for K = 8: 0.6 seconds\n",
      "\n",
      "\n",
      "Time taken by code for K = 8: 0.56 seconds\n",
      "\n",
      "\n",
      "Time taken by code for K = 8: 0.58 seconds\n",
      "\n",
      "\n",
      "Time taken by code for K = 8: 0.56 seconds\n",
      "\n",
      "\n",
      "Average RMSE: 5.88983643004\n",
      "Total Run Time 5.1\n",
      "--------------\n",
      "\n",
      "\n",
      "Time taken by code for K = 9: 0.61 seconds\n",
      "\n",
      "\n",
      "Time taken by code for K = 9: 0.63 seconds\n",
      "\n",
      "\n",
      "Time taken by code for K = 9: 0.6 seconds\n",
      "\n",
      "\n",
      "Time taken by code for K = 9: 0.56 seconds\n",
      "\n",
      "\n",
      "Time taken by code for K = 9: 0.65 seconds\n",
      "\n",
      "\n",
      "Time taken by code for K = 9: 0.65 seconds\n",
      "\n",
      "\n",
      "Time taken by code for K = 9: 0.58 seconds\n",
      "\n",
      "\n",
      "Time taken by code for K = 9: 0.6 seconds\n",
      "\n",
      "\n",
      "Time taken by code for K = 9: 0.59 seconds\n",
      "\n",
      "\n",
      "Average RMSE: 6.03927280398\n",
      "Total Run Time 5.47\n",
      "--------------\n",
      "\n",
      "\n",
      "Time taken by code for K = 10: 0.69 seconds\n",
      "\n",
      "\n",
      "Time taken by code for K = 10: 0.68 seconds\n",
      "\n",
      "\n",
      "Time taken by code for K = 10: 0.66 seconds\n",
      "\n",
      "\n",
      "Time taken by code for K = 10: 0.66 seconds\n",
      "\n",
      "\n",
      "Time taken by code for K = 10: 0.7 seconds\n",
      "\n",
      "\n",
      "Time taken by code for K = 10: 0.77 seconds\n",
      "\n",
      "\n",
      "Time taken by code for K = 10: 0.71 seconds\n",
      "\n",
      "\n",
      "Time taken by code for K = 10: 0.85 seconds\n",
      "\n",
      "\n",
      "Time taken by code for K = 10: 0.76 seconds\n",
      "\n",
      "\n",
      "Average RMSE: 6.16404774453\n",
      "Total Run Time 6.49\n",
      "--------------\n",
      "\n",
      "\n",
      "Time taken by code for K = 11: 0.73 seconds\n",
      "\n",
      "\n",
      "Time taken by code for K = 11: 0.75 seconds\n",
      "\n",
      "\n",
      "Time taken by code for K = 11: 0.75 seconds\n",
      "\n",
      "\n",
      "Time taken by code for K = 11: 0.69 seconds\n",
      "\n",
      "\n",
      "Time taken by code for K = 11: 0.74 seconds\n",
      "\n",
      "\n",
      "Time taken by code for K = 11: 0.74 seconds\n",
      "\n",
      "\n",
      "Time taken by code for K = 11: 0.68 seconds\n",
      "\n",
      "\n",
      "Time taken by code for K = 11: 0.72 seconds\n",
      "\n",
      "\n",
      "Time taken by code for K = 11: 0.68 seconds\n",
      "\n",
      "\n",
      "Average RMSE: 6.20546197261\n",
      "Total Run Time 6.48\n",
      "--------------\n",
      "\n",
      "\n",
      "Time taken by code for K = 12: 0.76 seconds\n",
      "\n",
      "\n",
      "Time taken by code for K = 12: 0.74 seconds\n",
      "\n",
      "\n",
      "Time taken by code for K = 12: 0.73 seconds\n",
      "\n",
      "\n",
      "Time taken by code for K = 12: 0.72 seconds\n",
      "\n",
      "\n",
      "Time taken by code for K = 12: 0.78 seconds\n",
      "\n",
      "\n",
      "Time taken by code for K = 12: 0.8 seconds\n",
      "\n",
      "\n",
      "Time taken by code for K = 12: 0.76 seconds\n",
      "\n",
      "\n",
      "Time taken by code for K = 12: 0.79 seconds\n",
      "\n",
      "\n",
      "Time taken by code for K = 12: 0.75 seconds\n",
      "\n",
      "\n",
      "Average RMSE: 6.23130562909\n",
      "Total Run Time 6.84\n",
      "--------------\n",
      "\n",
      "\n",
      "Time taken by code for K = 13: 0.84 seconds\n",
      "\n",
      "\n",
      "Time taken by code for K = 13: 0.82 seconds\n",
      "\n",
      "\n",
      "Time taken by code for K = 13: 0.81 seconds\n",
      "\n",
      "\n",
      "Time taken by code for K = 13: 0.78 seconds\n",
      "\n",
      "\n",
      "Time taken by code for K = 13: 0.85 seconds\n",
      "\n",
      "\n",
      "Time taken by code for K = 13: 0.89 seconds\n",
      "\n",
      "\n",
      "Time taken by code for K = 13: 0.8 seconds\n",
      "\n",
      "\n",
      "Time taken by code for K = 13: 0.84 seconds\n",
      "\n",
      "\n",
      "Time taken by code for K = 13: 0.8 seconds\n",
      "\n",
      "\n",
      "Average RMSE: 6.29884591905\n",
      "Total Run Time 7.43\n",
      "--------------\n",
      "\n",
      "\n",
      "Time taken by code for K = 14: 0.92 seconds\n",
      "\n",
      "\n",
      "Time taken by code for K = 14: 0.93 seconds\n",
      "\n",
      "\n",
      "Time taken by code for K = 14: 0.97 seconds\n",
      "\n",
      "\n",
      "Time taken by code for K = 14: 0.95 seconds\n",
      "\n",
      "\n",
      "Time taken by code for K = 14: 1.03 seconds\n",
      "\n",
      "\n",
      "Time taken by code for K = 14: 1.06 seconds\n",
      "\n",
      "\n",
      "Time taken by code for K = 14: 0.96 seconds\n",
      "\n",
      "\n",
      "Time taken by code for K = 14: 1.02 seconds\n",
      "\n",
      "\n",
      "Time taken by code for K = 14: 0.96 seconds\n",
      "\n",
      "\n",
      "Average RMSE: 6.3901207251\n",
      "Total Run Time 8.81\n",
      "--------------\n",
      "\n",
      "\n",
      "Time taken by code for K = 15: 1.08 seconds\n",
      "\n",
      "\n",
      "Time taken by code for K = 15: 1.09 seconds\n",
      "\n",
      "\n",
      "Time taken by code for K = 15: 1.06 seconds\n",
      "\n",
      "\n",
      "Time taken by code for K = 15: 1.05 seconds\n",
      "\n",
      "\n",
      "Time taken by code for K = 15: 1.16 seconds\n",
      "\n",
      "\n",
      "Time taken by code for K = 15: 1.3 seconds\n",
      "\n",
      "\n",
      "Time taken by code for K = 15: 1.22 seconds\n",
      "\n",
      "\n",
      "Time taken by code for K = 15: 1.19 seconds\n",
      "\n",
      "\n",
      "Time taken by code for K = 15: 1.23 seconds\n",
      "\n",
      "\n",
      "Average RMSE: 6.460594872\n",
      "Total Run Time 10.39\n",
      "--------------\n",
      "\n",
      "\n",
      "Time taken by code for K = 16: 1.24 seconds\n",
      "\n",
      "\n",
      "Time taken by code for K = 16: 1.2 seconds\n",
      "\n",
      "\n",
      "Time taken by code for K = 16: 1.29 seconds\n",
      "\n",
      "\n",
      "Time taken by code for K = 16: 1.27 seconds\n",
      "\n",
      "\n",
      "Time taken by code for K = 16: 1.32 seconds\n",
      "\n",
      "\n",
      "Time taken by code for K = 16: 1.36 seconds\n",
      "\n",
      "\n",
      "Time taken by code for K = 16: 1.42 seconds\n",
      "\n",
      "\n",
      "Time taken by code for K = 16: 1.11 seconds\n",
      "\n",
      "\n",
      "Time taken by code for K = 16: 1.0 seconds\n",
      "\n",
      "\n",
      "Average RMSE: 6.54172990833\n",
      "Total Run Time 11.21\n",
      "--------------\n",
      "\n",
      "\n",
      "Time taken by code for K = 17: 1.24 seconds\n",
      "\n",
      "\n",
      "Time taken by code for K = 17: 1.24 seconds\n",
      "\n",
      "\n",
      "Time taken by code for K = 17: 1.13 seconds\n",
      "\n",
      "\n",
      "Time taken by code for K = 17: 1.07 seconds\n",
      "\n",
      "\n",
      "Time taken by code for K = 17: 1.27 seconds\n",
      "\n",
      "\n",
      "Time taken by code for K = 17: 1.34 seconds\n",
      "\n",
      "\n",
      "Time taken by code for K = 17: 1.28 seconds\n",
      "\n",
      "\n",
      "Time taken by code for K = 17: 1.47 seconds\n",
      "\n",
      "\n",
      "Time taken by code for K = 17: 1.47 seconds\n",
      "\n",
      "\n",
      "Average RMSE: 6.6038367752\n",
      "Total Run Time 11.51\n",
      "--------------\n",
      "\n",
      "\n",
      "Time taken by code for K = 18: 1.39 seconds\n",
      "\n",
      "\n",
      "Time taken by code for K = 18: 1.19 seconds\n",
      "\n",
      "\n",
      "Time taken by code for K = 18: 1.18 seconds\n",
      "\n",
      "\n",
      "Time taken by code for K = 18: 1.16 seconds\n",
      "\n",
      "\n",
      "Time taken by code for K = 18: 1.25 seconds\n",
      "\n",
      "\n",
      "Time taken by code for K = 18: 1.27 seconds\n",
      "\n",
      "\n",
      "Time taken by code for K = 18: 1.15 seconds\n",
      "\n",
      "\n",
      "Time taken by code for K = 18: 1.23 seconds\n",
      "\n",
      "\n",
      "Time taken by code for K = 18: 1.16 seconds\n",
      "\n",
      "\n",
      "Average RMSE: 6.68186930323\n",
      "Total Run Time 10.99\n",
      "--------------\n",
      "\n",
      "\n",
      "Time taken by code for K = 19: 1.32 seconds\n",
      "\n",
      "\n",
      "Time taken by code for K = 19: 1.28 seconds\n",
      "\n",
      "\n",
      "Time taken by code for K = 19: 1.28 seconds\n",
      "\n",
      "\n",
      "Time taken by code for K = 19: 1.24 seconds\n",
      "\n",
      "\n",
      "Time taken by code for K = 19: 1.34 seconds\n",
      "\n",
      "\n",
      "Time taken by code for K = 19: 1.35 seconds\n",
      "\n",
      "\n",
      "Time taken by code for K = 19: 1.29 seconds\n",
      "\n",
      "\n",
      "Time taken by code for K = 19: 1.66 seconds\n",
      "\n",
      "\n",
      "Time taken by code for K = 19: 1.67 seconds\n",
      "\n",
      "\n",
      "Average RMSE: 6.70752236611\n",
      "Total Run Time 12.44\n",
      "--------------\n",
      "\n",
      "\n",
      "Time taken by code for K = 20: 1.97 seconds\n",
      "\n",
      "\n",
      "Time taken by code for K = 20: 1.71 seconds\n",
      "\n",
      "\n",
      "Time taken by code for K = 20: 1.39 seconds\n",
      "\n",
      "\n",
      "Time taken by code for K = 20: 1.36 seconds\n",
      "\n",
      "\n",
      "Time taken by code for K = 20: 1.43 seconds\n",
      "\n",
      "\n",
      "Time taken by code for K = 20: 1.6 seconds\n",
      "\n",
      "\n",
      "Time taken by code for K = 20: 1.35 seconds\n",
      "\n",
      "\n",
      "Time taken by code for K = 20: 1.42 seconds\n",
      "\n",
      "\n",
      "Time taken by code for K = 20: 1.34 seconds\n",
      "\n",
      "\n",
      "Average RMSE: 6.752755705\n",
      "Total Run Time 13.57\n",
      "--------------\n",
      "\n",
      "\n",
      "Time taken by code for K = 21: 1.51 seconds\n",
      "\n",
      "\n",
      "Time taken by code for K = 21: 1.47 seconds\n",
      "\n",
      "\n",
      "Time taken by code for K = 21: 1.44 seconds\n",
      "\n",
      "\n",
      "Time taken by code for K = 21: 1.45 seconds\n",
      "\n",
      "\n",
      "Time taken by code for K = 21: 1.6 seconds\n",
      "\n",
      "\n",
      "Time taken by code for K = 21: 1.58 seconds\n",
      "\n",
      "\n",
      "Time taken by code for K = 21: 1.43 seconds\n",
      "\n",
      "\n",
      "Time taken by code for K = 21: 1.5 seconds\n",
      "\n",
      "\n",
      "Time taken by code for K = 21: 1.52 seconds\n",
      "\n",
      "\n",
      "Average RMSE: 6.81284386744\n",
      "Total Run Time 13.5\n",
      "--------------\n",
      "\n",
      "\n",
      "Time taken by code for K = 22: 1.61 seconds\n",
      "\n",
      "\n",
      "Time taken by code for K = 22: 1.57 seconds\n",
      "\n",
      "\n",
      "Time taken by code for K = 22: 1.53 seconds\n",
      "\n",
      "\n",
      "Time taken by code for K = 22: 1.52 seconds\n",
      "\n",
      "\n",
      "Time taken by code for K = 22: 1.59 seconds\n",
      "\n",
      "\n",
      "Time taken by code for K = 22: 1.64 seconds\n",
      "\n",
      "\n",
      "Time taken by code for K = 22: 1.53 seconds\n",
      "\n",
      "\n",
      "Time taken by code for K = 22: 1.6 seconds\n",
      "\n",
      "\n",
      "Time taken by code for K = 22: 1.48 seconds\n",
      "\n",
      "\n",
      "Average RMSE: 6.84977705134\n",
      "Total Run Time 14.08\n",
      "--------------\n",
      "\n",
      "\n",
      "Time taken by code for K = 23: 1.88 seconds\n",
      "\n",
      "\n",
      "Time taken by code for K = 23: 2.22 seconds\n",
      "\n",
      "\n",
      "Time taken by code for K = 23: 2.27 seconds\n",
      "\n",
      "\n",
      "Time taken by code for K = 23: 2.39 seconds\n",
      "\n",
      "\n",
      "Time taken by code for K = 23: 2.33 seconds\n",
      "\n",
      "\n",
      "Time taken by code for K = 23: 2.22 seconds\n",
      "\n",
      "\n",
      "Time taken by code for K = 23: 2.14 seconds\n",
      "\n",
      "\n",
      "Time taken by code for K = 23: 2.21 seconds\n",
      "\n",
      "\n",
      "Time taken by code for K = 23: 1.64 seconds\n",
      "\n",
      "\n",
      "Average RMSE: 6.89767146599\n",
      "Total Run Time 19.29\n",
      "--------------\n",
      "\n",
      "\n",
      "Time taken by code for K = 24: 2.39 seconds\n",
      "\n",
      "\n",
      "Time taken by code for K = 24: 2.48 seconds\n",
      "\n",
      "\n",
      "Time taken by code for K = 24: 2.34 seconds\n",
      "\n",
      "\n",
      "Time taken by code for K = 24: 2.01 seconds\n",
      "\n",
      "\n",
      "Time taken by code for K = 24: 2.12 seconds\n",
      "\n",
      "\n",
      "Time taken by code for K = 24: 2.54 seconds\n",
      "\n",
      "\n",
      "Time taken by code for K = 24: 2.56 seconds\n",
      "\n",
      "\n",
      "Time taken by code for K = 24: 2.51 seconds\n",
      "\n",
      "\n",
      "Time taken by code for K = 24: 2.25 seconds\n",
      "\n",
      "\n",
      "Average RMSE: 6.96140963341\n",
      "Total Run Time 21.21\n",
      "--------------\n",
      "\n",
      "\n",
      "Time taken by code for K = 25: 1.94 seconds\n",
      "\n",
      "\n",
      "Time taken by code for K = 25: 1.8 seconds\n",
      "\n",
      "\n",
      "Time taken by code for K = 25: 1.82 seconds\n",
      "\n",
      "\n",
      "Time taken by code for K = 25: 1.78 seconds\n",
      "\n",
      "\n",
      "Time taken by code for K = 25: 1.89 seconds\n",
      "\n",
      "\n",
      "Time taken by code for K = 25: 1.97 seconds\n",
      "\n",
      "\n",
      "Time taken by code for K = 25: 1.79 seconds\n",
      "\n",
      "\n",
      "Time taken by code for K = 25: 1.89 seconds\n",
      "\n",
      "\n",
      "Time taken by code for K = 25: 1.76 seconds\n",
      "\n",
      "\n",
      "Average RMSE: 7.04536005495\n",
      "Total Run Time 16.64\n",
      "--------------\n",
      "\n",
      "\n",
      "Overall total time taken: 227.79 seconds\n"
     ]
    }
   ],
   "source": [
    "features = ['CRIM', 'ZN','RM', 'AGE', 'DIS', 'TAX']\n",
    "overall_rmses = []\n",
    "start = time.time()\n",
    "\n",
    "for K in range(1, 26):    \n",
    "    k_rmse = []\n",
    "\n",
    "    k_rmse.append(cv(parts, features, knn, K))\n",
    "\n",
    "    mean = sum(k_rmse) / len(k_rmse)\n",
    "    overall_rmses.append(mean)\n",
    "\n",
    "print (\"Overall total time taken: \" + str(round(time.time() - start, 2)) + \" seconds\")"
   ]
  },
  {
   "cell_type": "code",
   "execution_count": 220,
   "metadata": {
    "autoscroll": "json-false",
    "collapsed": false,
    "ein.tags": [
     "worksheet-0"
    ],
    "slideshow": {
     "slide_type": "-"
    }
   },
   "outputs": [
    {
     "data": {
      "image/png": "[encoded data removed]",
      "text/plain": [
       "<matplotlib.figure.Figure at 0x11731ae80>"
      ]
     },
     "metadata": {},
     "output_type": "display_data"
    },
    {
     "name": "stdout",
     "output_type": "stream",
     "text": [
      "[5.4883187150641426, 5.5055192868926399, 5.2889296987577605, 5.3799249758214343, 5.5527996453978901, 5.605025501417332, 5.7765006869557105, 5.8898364300430366, 6.0392728039810928, 6.164047744533601, 6.2054619726118574, 6.2313056290916471, 6.2988459190531554, 6.3901207250967138, 6.4605948720024777, 6.541729908327631, 6.6038367751978928, 6.6818693032259731, 6.707522366110374, 6.7527557049966367, 6.8128438674407272, 6.8497770513403946, 6.8976714659913476, 6.9614096334071869, 7.0453600549471034]\n"
     ]
    }
   ],
   "source": [
    "x_values = range(1, 26)\n",
    "plt.plot(x_values, overall_rmses)\n",
    "\n",
    "plt.title('RMSE vs K')\n",
    "plt.xlabel('K value')\n",
    "plt.ylabel('RMSE value')\n",
    "\n",
    "plt.subplot().spines['top'].set_visible(False)\n",
    "plt.subplot().spines['right'].set_visible(False)\n",
    "plt.tick_params(\n",
    "    axis='x',          \n",
    "    bottom='on',      \n",
    "    top='off')\n",
    "plt.tick_params(\n",
    "    axis='y',          \n",
    "    bottom='on',      \n",
    "    top='off',\n",
    "    right = \"off\")\n",
    "\n",
    "\n",
    "plt.show()\n",
    "\n",
    "print(overall_rmses)"
   ]
  },
  {
   "cell_type": "markdown",
   "metadata": {
    "ein.tags": [
     "worksheet-0"
    ],
    "slideshow": {
     "slide_type": "-"
    }
   },
   "source": [
    "From this plot I see that a low, as well as a high K value will produced a relatively higher mean RMSE value. The plot dips at K = 3, which has a mean RMSE value of 5.29 so this K value would be most appropriate for this specific model as it produced the least amount of error for our test data. Once we pass K = 5, the RMSE seems to increase faster, which shows that a higher K value is not appropriate for this model."
   ]
  },
  {
   "cell_type": "markdown",
   "metadata": {
    "ein.tags": [
     "worksheet-0"
    ],
    "slideshow": {
     "slide_type": "-"
    }
   },
   "source": [
    "### Extra-Credit: Forward selection\n",
    "\n",
    "Thus far the choice of predictor variables has been rather\n",
    "arbitrary. For extra credit, implement a basic (See Hastie,\n",
    "Tibshirani, Friedman _Elements of statistical Learning_, Ch 3.3)\n",
    "algorithm to progressively include features that decrease the\n",
    "cross-validated RMSE of the model. Note that the optimal value of K\n",
    "may be different for each model, so you may want to use\n",
    "cross-validation to choose K each time (but it is also fine if you fix\n",
    "K at the optimal value from 2.7).  Create a graph that shows RMSE as a\n",
    "function of the number of features in the model. Label each point on\n",
    "the x-axis with the name of the feature that is added at that step in\n",
    "the forward selection algorithm.  For instance, if the optimal\n",
    "single-feature model has CRIM with RMSE = 10, and the optimal\n",
    "two-feature model has CRIM+ZN with RMSE=9, the first x-axis label will\n",
    "say CRIM and the second x-axis lable with say ZN"
   ]
  }
 ],
 "metadata": {
  "anaconda-cloud": {},
  "kernelspec": {
   "display_name": "Python [conda root]",
   "language": "python",
   "name": "conda-root-py"
  },
  "language_info": {
   "codemirror_mode": {
    "name": "ipython",
    "version": 3
   },
   "file_extension": ".py",
   "mimetype": "text/x-python",
   "name": "python",
   "nbconvert_exporter": "python",
   "pygments_lexer": "ipython3",
   "version": "3.5.2"
  },
  "name": "INFO371-PS3.ipynb"
 },
 "nbformat": 4,
 "nbformat_minor": 0
}
